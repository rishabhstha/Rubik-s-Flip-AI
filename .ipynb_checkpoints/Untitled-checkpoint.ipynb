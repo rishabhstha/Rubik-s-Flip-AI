{
 "cells": [
  {
   "cell_type": "code",
   "execution_count": 1,
   "id": "233cc49d",
   "metadata": {},
   "outputs": [],
   "source": [
    "import numpy as np\n"
   ]
  },
  {
   "cell_type": "code",
   "execution_count": 16,
   "id": "8ae9c31f",
   "metadata": {},
   "outputs": [],
   "source": [
    "class Operator:\n",
    "    def _init_(self, row, col):\n",
    "        self.row=row\n",
    "        self.col=col\n",
    "        \n",
    "class Move:\n",
    "    def _init_(self, op, value):\n",
    "        self.op=op\n",
    "        self.value=value\n",
    "\n",
    "class State:\n",
    "    def _init_(self, cell):\n",
    "        self.cell=cell\n",
    "        "
   ]
  },
  {
   "cell_type": "code",
   "execution_count": 17,
   "id": "2a0fa828",
   "metadata": {},
   "outputs": [],
   "source": [
    "BLANK=0\n",
    "USER_RED=1\n",
    "USER_BLUE=2\n",
    "#how about red/blue and white/yellow\n",
    "PROGRAM_WHITE=3\n",
    "PROGRAM_YELLOW=4\n",
    "\n",
    "TIE=3\n",
    "MAXEVAL=1000"
   ]
  },
  {
   "cell_type": "code",
   "execution_count": 30,
   "id": "ab1dea13",
   "metadata": {},
   "outputs": [],
   "source": [
    "cell=[[]]\n",
    "cell=[[0 for i in range(4)] for i in range(4)]\n",
    "current_State=State() \n",
    "current_State.cell=cell\n"
   ]
  },
  {
   "cell_type": "code",
   "execution_count": 31,
   "id": "ff984ebe",
   "metadata": {},
   "outputs": [
    {
     "data": {
      "text/plain": [
       "[[0, 0, 0, 0], [0, 0, 0, 0], [0, 0, 0, 0], [0, 0, 0, 0]]"
      ]
     },
     "execution_count": 31,
     "metadata": {},
     "output_type": "execute_result"
    }
   ],
   "source": [
    "current_State.cell"
   ]
  },
  {
   "cell_type": "code",
   "execution_count": 52,
   "id": "f81d047d",
   "metadata": {},
   "outputs": [
    {
     "name": "stdout",
     "output_type": "stream",
     "text": [
      "------------------\n",
      "|   |   |   |   |\n",
      "------------------\n",
      "|   |   |   |   |\n",
      "------------------\n",
      "|   |   |   |   |\n",
      "------------------\n",
      "|   |   |   |   |\n",
      "------------------\n"
     ]
    }
   ],
   "source": [
    "def print_State(state):\n",
    "    \n",
    "    for i in range(18):\n",
    "        print(\"-\", end=\"\")\n",
    "    print() \n",
    "    for i in range(4):\n",
    "        for j in range(4):\n",
    "            if state.cell[i][j]==BLANK:\n",
    "                print(\"|   \", end=\"\")\n",
    "            elif state.cell[i][j]==USER_RED:\n",
    "                print(\"| R \", end=\"\")\n",
    "            elif state.cell[i][j]==USER_BLUE:\n",
    "                print(\"| R \", end=\"\")                \n",
    "            elif state.cell[i][j]==PROGRAM_WHITE:\n",
    "                print(\"| W \", end=\"\")\n",
    "            elif state.cell[i][j]==PROGRAM_YELLOW:\n",
    "                print(\"|Y  \", end=\"\")\n",
    "                \n",
    "        print(\"|\")\n",
    "        for i in range(18):\n",
    "            print(\"-\", end=\"\") \n",
    "        print()  \n",
    "        \n",
    "print_State(current_State)  \n",
    "    "
   ]
  },
  {
   "cell_type": "code",
   "execution_count": 51,
   "id": "52028cbe",
   "metadata": {},
   "outputs": [],
   "source": [
    "#User turn\n",
    "# print(\"Please tell the row of the tile you want to flip\")\n",
    "# print(\"Please tell the column of the tile you want to flip\")\n",
    "flipRow=0\n",
    "flipCol=1\n",
    "\n",
    "operator=Operator()\n",
    "operator.row=1\n",
    "operator.col=1\n",
    "\n",
    "def isValidMove(state, operator):\n",
    "    if operator.row>3 or operator.row<0 or operator.col>3 or operator.col<0:\n",
    "        return 0\n",
    "    \n",
    "    if state.cell[operator.row][operator.col]==BLANK:\n",
    "        return 1\n",
    "    else:\n",
    "        return 0\n",
    "\n",
    "def flip():\n",
    "    return 0\n",
    "    \n",
    "\n",
    "def makeMove(state, operator, who):\n",
    "    if not isValidMove(state, operator):\n",
    "        return 0\n",
    "    state.cell[operator.row][operator.col]=who\n",
    "\n",
    "    \n"
   ]
  },
  {
   "cell_type": "code",
   "execution_count": 50,
   "id": "1e5856a5",
   "metadata": {},
   "outputs": [
    {
     "data": {
      "text/plain": [
       "1"
      ]
     },
     "execution_count": 50,
     "metadata": {},
     "output_type": "execute_result"
    }
   ],
   "source": [
    "if(isValidMove(current_State, operator)):\n",
    "    makeMove()"
   ]
  },
  {
   "cell_type": "code",
   "execution_count": null,
   "id": "43ae2b3d",
   "metadata": {},
   "outputs": [],
   "source": []
  }
 ],
 "metadata": {
  "kernelspec": {
   "display_name": "Python 3",
   "language": "python",
   "name": "python3"
  },
  "language_info": {
   "codemirror_mode": {
    "name": "ipython",
    "version": 3
   },
   "file_extension": ".py",
   "mimetype": "text/x-python",
   "name": "python",
   "nbconvert_exporter": "python",
   "pygments_lexer": "ipython3",
   "version": "3.8.7"
  }
 },
 "nbformat": 4,
 "nbformat_minor": 5
}
