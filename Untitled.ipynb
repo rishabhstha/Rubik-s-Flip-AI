{
 "cells": [
  {
   "cell_type": "code",
   "execution_count": 1,
   "id": "8447cde4",
   "metadata": {},
   "outputs": [],
   "source": [
    "import numpy as np\n"
   ]
  },
  {
   "cell_type": "code",
   "execution_count": 91,
   "id": "651fb151",
   "metadata": {},
   "outputs": [],
   "source": [
    "class Operator:\n",
    "    def _init_(self, row, col):\n",
    "        self.row=row\n",
    "        self.col=col\n",
    "        \n",
    "class Move:\n",
    "    def _init_(self, op, value):\n",
    "        self.op=op\n",
    "        self.value=value\n",
    "\n",
    "class State:\n",
    "    def _init_(self, cell):\n",
    "        self.cell=cell\n",
    "\n",
    "class Tile:\n",
    "    def _init_(self, tileIndex, tileValue, neighbours):\n",
    "        self.tileIndex=tileIndex\n",
    "        self.tileValue=tileValue\n",
    "        self.neighbours=neighbours"
   ]
  },
  {
   "cell_type": "code",
   "execution_count": 55,
   "id": "eea08cb2",
   "metadata": {},
   "outputs": [],
   "source": [
    "BLANK=0\n",
    "USER_RED=1\n",
    "USER_BLUE=2\n",
    "#how about red/blue and white/yellow\n",
    "PROGRAM_WHITE=3\n",
    "PROGRAM_YELLOW=4\n",
    "\n",
    "TIE=3\n",
    "MAXEVAL=1000"
   ]
  },
  {
   "cell_type": "code",
   "execution_count": 30,
   "id": "c62d2521",
   "metadata": {},
   "outputs": [],
   "source": [
    "cell=[[]]\n",
    "cell=[[0 for i in range(4)] for i in range(4)]\n",
    "current_State=State() \n",
    "current_State.cell=cell\n"
   ]
  },
  {
   "cell_type": "code",
   "execution_count": 79,
   "id": "3d3470d0",
   "metadata": {},
   "outputs": [
    {
     "data": {
      "text/plain": [
       "[[0, 0, 0, 0], [0, 1, 0, 0], [0, 1, 0, 0], [0, 2, 2, 0]]"
      ]
     },
     "execution_count": 79,
     "metadata": {},
     "output_type": "execute_result"
    }
   ],
   "source": [
    "current_State.cell\n",
    "\n"
   ]
  },
  {
   "cell_type": "code",
   "execution_count": 67,
   "id": "eb6b39f7",
   "metadata": {},
   "outputs": [
    {
     "name": "stdout",
     "output_type": "stream",
     "text": [
      "------------------\n",
      "|   |   |   |   |\n",
      "------------------\n",
      "|   | R |   |   |\n",
      "------------------\n",
      "|   | R |   |   |\n",
      "------------------\n",
      "|   | B |   |   |\n",
      "------------------\n"
     ]
    }
   ],
   "source": [
    "def print_State(state):\n",
    "    \n",
    "    for i in range(18):\n",
    "        print(\"-\", end=\"\")\n",
    "    print() \n",
    "    for i in range(4):\n",
    "        for j in range(4):\n",
    "            if state.cell[i][j]==BLANK:\n",
    "                print(\"|   \", end=\"\")\n",
    "            elif state.cell[i][j]==USER_RED:\n",
    "                print(\"| R \", end=\"\")\n",
    "            elif state.cell[i][j]==USER_BLUE:\n",
    "                print(\"| B \", end=\"\")                \n",
    "            elif state.cell[i][j]==PROGRAM_WHITE:\n",
    "                print(\"| W \", end=\"\")\n",
    "            elif state.cell[i][j]==PROGRAM_YELLOW:\n",
    "                print(\"| Y  \", end=\"\")\n",
    "                \n",
    "        print(\"|\")\n",
    "        for i in range(18):\n",
    "            print(\"-\", end=\"\") \n",
    "        print()  \n",
    "        \n",
    "print_State(current_State)  \n",
    "    "
   ]
  },
  {
   "cell_type": "code",
   "execution_count": 80,
   "id": "44163983",
   "metadata": {},
   "outputs": [
    {
     "ename": "IndentationError",
     "evalue": "expected an indented block (<ipython-input-80-83fde796b950>, line 35)",
     "output_type": "error",
     "traceback": [
      "\u001b[1;36m  File \u001b[1;32m\"<ipython-input-80-83fde796b950>\"\u001b[1;36m, line \u001b[1;32m35\u001b[0m\n\u001b[1;33m    return 0\u001b[0m\n\u001b[1;37m    ^\u001b[0m\n\u001b[1;31mIndentationError\u001b[0m\u001b[1;31m:\u001b[0m expected an indented block\n"
     ]
    }
   ],
   "source": [
    "#User turn\n",
    "# print(\"Please tell the row of the tile you want to flip\")\n",
    "# print(\"Please tell the column of the tile you want to flip\")\n",
    "flipRow=0\n",
    "flipCol=1\n",
    "\n",
    "operator=Operator()\n",
    "operator.row=3\n",
    "operator.col=2\n",
    "\n",
    "def isValidMove(state, operator):\n",
    "    if operator.row>3 or operator.row<0 or operator.col>3 or operator.col<0:\n",
    "        return 0\n",
    "    \n",
    "    if state.cell[operator.row][operator.col]==BLANK:\n",
    "        return 1\n",
    "    else:\n",
    "        return 0\n",
    "\n",
    "    \n",
    "\n",
    "def makeMove(state, operator, who):\n",
    "    if not isValidMove(state, operator):\n",
    "        return 0\n",
    "    state.cell[operator.row][operator.col]=who\n",
    "\n",
    "    \n"
   ]
  },
  {
   "cell_type": "code",
   "execution_count": 96,
   "id": "49ec98c4",
   "metadata": {},
   "outputs": [],
   "source": [
    "if(isValidMove(current_State, operator)):\n",
    "    makeMove(current_State, operator, userType)"
   ]
  },
  {
   "cell_type": "code",
   "execution_count": 97,
   "id": "44ac2f66",
   "metadata": {},
   "outputs": [
    {
     "name": "stdout",
     "output_type": "stream",
     "text": [
      "[[1 1]\n",
      " [2 1]\n",
      " [1 0]\n",
      " [3 1]\n",
      " [3 2]]\n",
      "1\n",
      "1\n",
      "[[1, 0], [1, 2], [0, 1], [2, 1]]\n",
      "[[1, 2], [0, 1]]\n",
      "2\n",
      "1\n",
      "[[2, 0], [2, 2], [1, 1], [3, 1]]\n",
      "[[2, 0], [2, 2]]\n",
      "1\n",
      "0\n",
      "[[1, -1], [1, 1], [0, 0], [2, 0]]\n",
      "[[0, 0], [2, 0]]\n",
      "3\n",
      "1\n",
      "[[3, 0], [3, 2], [2, 1], [4, 1]]\n",
      "[[3, 0]]\n",
      "3\n",
      "2\n",
      "[[3, 1], [3, 3], [2, 2], [4, 2]]\n",
      "[[3, 3], [2, 2]]\n",
      "------------------\n",
      "|   |   |   |   |\n",
      "------------------\n",
      "| B | R |   |   |\n",
      "------------------\n",
      "|   | R |   |   |\n",
      "------------------\n",
      "|   | B | B |   |\n",
      "------------------\n"
     ]
    }
   ],
   "source": [
    "userType=USER_BLUE\n",
    "# while not isValidMove(current_State,operator):\n",
    "#     print(\"Please input your move:\")\n",
    "#     print(\"Row(0-3)\")\n",
    "\n",
    "    \n",
    "\n",
    "def flip(state, userType):\n",
    "    if userType==USER_RED or userType==USER_BLUE:\n",
    "        array=np.array(state.cell)\n",
    "        opponent_Tiles1=np.argwhere(array==1)\n",
    "        opponent_Tiles2=np.argwhere(array==2)\n",
    "        opponent_Tiles=np.concatenate((opponent_Tiles1, opponent_Tiles2))\n",
    "        print(opponent_Tiles)\n",
    "        \n",
    "#         for tiles in opponent_Tiles:\n",
    "#             print(tiles)\n",
    "#             for row in tiles:\n",
    "#                 print(row)\n",
    "        \n",
    "        list_neighbours=[]\n",
    "        for i in opponent_Tiles:\n",
    "            print(i[0])\n",
    "            up=i[0]-1\n",
    "            down=i[0]+1\n",
    "            left=i[1]-1\n",
    "            right=i[1]+1\n",
    "            \n",
    "            neighbours=[[i[0], left], [i[0], right], [up, i[1]],[down,i[1]]]\n",
    "            print(i[1])\n",
    "            print(neighbours)\n",
    "         \n",
    "        #make a tile and its neighbour(create a object of each opponent tile and make a list)\n",
    "        #now findValidneighbours\n",
    "            \n",
    "            #Now check if the neighbors are valid\n",
    "            valid_Neighbours=[]\n",
    "            for neighbour in neighbours:\n",
    "                operator.row=neighbour[0]\n",
    "                operator.col=neighbour[1]\n",
    "                if isValidMove(state, operator):\n",
    "                    valid_Neighbours.append(neighbour)\n",
    "                    \n",
    "            print(valid_Neighbours)\n",
    "            \n",
    "\n",
    "flip(current_State, userType)\n",
    "    \n",
    "print_State(current_State)"
   ]
  },
  {
   "cell_type": "code",
   "execution_count": null,
   "id": "1346bc41",
   "metadata": {},
   "outputs": [],
   "source": []
  }
 ],
 "metadata": {
  "kernelspec": {
   "display_name": "Python 3",
   "language": "python",
   "name": "python3"
  },
  "language_info": {
   "codemirror_mode": {
    "name": "ipython",
    "version": 3
   },
   "file_extension": ".py",
   "mimetype": "text/x-python",
   "name": "python",
   "nbconvert_exporter": "python",
   "pygments_lexer": "ipython3",
   "version": "3.8.7"
  }
 },
 "nbformat": 4,
 "nbformat_minor": 5
}
